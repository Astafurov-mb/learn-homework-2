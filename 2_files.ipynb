{
 "cells": [
  {
   "cell_type": "code",
   "execution_count": 1,
   "metadata": {},
   "outputs": [
    {
     "name": "stdout",
     "output_type": "stream",
     "text": [
      "1509\n"
     ]
    }
   ],
   "source": [
    "\"\"\"\n",
    "Домашнее задание №2\n",
    "\n",
    "Работа с файлами\n",
    "\n",
    "\n",
    "1. Скачайте файл по ссылке https://www.dropbox.com/s/sipsmqpw1gwzd37/referat.txt?dl=0\n",
    "2. Прочитайте содержимое файла в перменную, подсчитайте длинну получившейся строки\n",
    "3. Подсчитайте количество слов в тексте\n",
    "4. Замените точки в тексте на восклицательные знаки\n",
    "5. Сохраните результат в файл referat2.txt\n",
    "\"\"\"\n",
    "\n",
    "def main():\n",
    "    with open ('referat.txt', 'r', encoding='utf-8') as f:\n",
    "        length=len(f.read())\n",
    "        print(length)\n",
    "\n",
    "    \n",
    "    \n",
    "if __name__ == \"__main__\":\n",
    "    main()\n"
   ]
  },
  {
   "cell_type": "code",
   "execution_count": 4,
   "metadata": {},
   "outputs": [
    {
     "name": "stdout",
     "output_type": "stream",
     "text": [
      "159\n"
     ]
    }
   ],
   "source": [
    "def main():\n",
    "    with open ('referat.txt', 'r', encoding='utf-8') as f:\n",
    "        texts=f.read()\n",
    "        print(texts.count(' ')+1)\n",
    "\n",
    "    \n",
    "    \n",
    "if __name__ == \"__main__\":\n",
    "    main()\n"
   ]
  },
  {
   "cell_type": "code",
   "execution_count": 16,
   "metadata": {},
   "outputs": [
    {
     "name": "stdout",
     "output_type": "stream",
     "text": [
      "<_io.TextIOWrapper name='referat2.txt' mode='w' encoding='utf-8'>\n"
     ]
    }
   ],
   "source": [
    "def main():\n",
    "    texts = ' '\n",
    "    with open ('referat.txt', 'r', encoding='utf-8') as f:\n",
    "        texts=f.read()\n",
    "        texts.replace('.','!')\n",
    "    with open ('referat2.txt', 'a', encoding='utf-8') as f:\n",
    "        f.write(texts)\n",
    "        print(f)\n",
    "    \n",
    "    \n",
    "if __name__ == \"__main__\":\n",
    "    main()\n"
   ]
  }
 ],
 "metadata": {
  "kernelspec": {
   "display_name": "env",
   "language": "python",
   "name": "python3"
  },
  "language_info": {
   "codemirror_mode": {
    "name": "ipython",
    "version": 3
   },
   "file_extension": ".py",
   "mimetype": "text/x-python",
   "name": "python",
   "nbconvert_exporter": "python",
   "pygments_lexer": "ipython3",
   "version": "3.10.10"
  },
  "orig_nbformat": 4,
  "vscode": {
   "interpreter": {
    "hash": "eb28fd3fbebe82188a35657822ae45c68c48d48077d9a0a1ba454ba0f43b031b"
   }
  }
 },
 "nbformat": 4,
 "nbformat_minor": 2
}
